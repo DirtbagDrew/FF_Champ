{
 "cells": [
  {
   "cell_type": "markdown",
   "metadata": {},
   "source": [
    "# Operaion: 2021 FF Champion\n",
    "## toying with using selenium webscraping and data science techniques to get an edge for next years FF season"
   ]
  },
  {
   "cell_type": "code",
   "execution_count": 1,
   "metadata": {},
   "outputs": [],
   "source": [
    "from selenium import webdriver\n",
    "from selenium.webdriver.common.keys import Keys"
   ]
  },
  {
   "cell_type": "markdown",
   "metadata": {},
   "source": [
    "### initiate the selenium web driver"
   ]
  },
  {
   "cell_type": "code",
   "execution_count": 2,
   "metadata": {
    "scrolled": true
   },
   "outputs": [],
   "source": [
    "driver = webdriver.Firefox()"
   ]
  },
  {
   "cell_type": "markdown",
   "metadata": {},
   "source": [
    "### Quarterback\n",
    "#### passing\n",
    "\n",
    "navigate to nfl next gen stats passing page"
   ]
  },
  {
   "cell_type": "code",
   "execution_count": 24,
   "metadata": {},
   "outputs": [],
   "source": [
    "URL = 'https://nextgenstats.nfl.com/stats/passing'\n",
    "driver.get(URL)\n"
   ]
  },
  {
   "cell_type": "code",
   "execution_count": 39,
   "metadata": {},
   "outputs": [
    {
     "name": "stdout",
     "output_type": "stream",
     "text": [
      "Derek Carr\n",
      "Jameis Winston\n",
      "Sam Darnold\n",
      "Matt Ryan\n",
      "Case Keenum\n",
      "Deshaun Watson\n",
      "Andy Dalton\n",
      "Tom Brady\n",
      "Daniel Jones\n",
      "Mitchell Trubisky\n",
      "Dwayne Haskins\n",
      "Carson Wentz\n",
      "Drew Lock\n",
      "Baker Mayfield\n",
      "Kirk Cousins\n",
      "Aaron Rodgers\n",
      "Philip Rivers\n",
      "Matthew Stafford\n",
      "Jacoby Brissett\n",
      "Teddy Bridgewater\n",
      "Eli Manning\n",
      "Ryan Tannehill\n",
      "Jared Goff\n",
      "Kyler Murray\n",
      "Russell Wilson\n",
      "Mason Rudolph\n",
      "Marcus Mariota\n",
      "Dak Prescott\n",
      "David Blough\n",
      "Devlin Hodges\n",
      "Josh Allen\n",
      "Jimmy Garoppolo\n",
      "Drew Brees\n",
      "Ryan Fitzpatrick\n",
      "Joe Flacco\n",
      "Gardner Minshew\n",
      "Kyle Allen\n",
      "Lamar Jackson\n",
      "Patrick Mahomes\n"
     ]
    }
   ],
   "source": [
    "#container = driver.find_element_by_class_name('ngs-data-table')\n",
    "\n",
    "table = driver.find_elements_by_tag_name('table')\n",
    "rows = table[1].find_elements_by_tag_name(\"tr\")\n",
    "for row in rows:\n",
    "    col=row.find_elements_by_tag_name(\"td\")\n",
    "    item=col[0].find_element_by_class_name(\"cell\")\n",
    "    print(item.get_attribute('innerHTML'))"
   ]
  },
  {
   "cell_type": "code",
   "execution_count": null,
   "metadata": {},
   "outputs": [],
   "source": []
  },
  {
   "cell_type": "code",
   "execution_count": null,
   "metadata": {},
   "outputs": [],
   "source": []
  },
  {
   "cell_type": "code",
   "execution_count": null,
   "metadata": {},
   "outputs": [],
   "source": []
  }
 ],
 "metadata": {
  "kernelspec": {
   "display_name": "Python 3",
   "language": "python",
   "name": "python3"
  },
  "language_info": {
   "codemirror_mode": {
    "name": "ipython",
    "version": 3
   },
   "file_extension": ".py",
   "mimetype": "text/x-python",
   "name": "python",
   "nbconvert_exporter": "python",
   "pygments_lexer": "ipython3",
   "version": "3.7.4"
  }
 },
 "nbformat": 4,
 "nbformat_minor": 2
}
